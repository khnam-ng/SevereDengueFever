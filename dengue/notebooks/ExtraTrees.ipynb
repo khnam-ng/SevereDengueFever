{
 "cells": [
  {
   "cell_type": "code",
   "execution_count": 1,
   "id": "762af2ad",
   "metadata": {},
   "outputs": [
    {
     "data": {
      "text/plain": [
       "'author: Vetivert? 💐 \\ncreated: 30/05/2025 @ 04:02:42'"
      ]
     },
     "execution_count": 1,
     "metadata": {},
     "output_type": "execute_result"
    }
   ],
   "source": [
    "\"\"\"author: Vetivert? 💐 \n",
    "created: 30/05/2025 @ 04:02:42\"\"\""
   ]
  },
  {
   "cell_type": "code",
   "execution_count": 2,
   "id": "7992c47b",
   "metadata": {},
   "outputs": [],
   "source": [
    "import numpy as np \n",
    "import matplotlib.pyplot as plt \n",
    "import matplotlib as mpl \n",
    "import pandas as pd \n",
    "import seaborn as sns \n",
    "\n",
    "from sklearn.model_selection import train_test_split, cross_val_score, StratifiedKFold, RandomizedSearchCV, GridSearchCV \n",
    "from sklearn.preprocessing import StandardScaler, label_binarize \n",
    "from sklearn.metrics import accuracy_score, classification_report, roc_auc_score, roc_curve, confusion_matrix, make_scorer \n",
    "from sklearn.ensemble import ExtraTreesClassifier\n",
    "from scipy.stats import randint, uniform \n",
    "from mpl_toolkits.axes_grid1 import make_axes_locatable\n",
    "\n",
    "import sys\n",
    "import os\n",
    "\n",
    "current_dir = os.path.abspath('')\n",
    "\n",
    "parent_dir = os.path.dirname(current_dir)\n",
    "sys.path.append(parent_dir)\n",
    "\n",
    "from src.utils.prefix_path import *\n",
    "from src.utils.functions import *"
   ]
  },
  {
   "cell_type": "markdown",
   "id": "8f625bf0",
   "metadata": {},
   "source": [
    "# LOAD DATA"
   ]
  },
  {
   "cell_type": "code",
   "execution_count": 3,
   "id": "d6ec3ead",
   "metadata": {},
   "outputs": [
    {
     "name": "stdout",
     "output_type": "stream",
     "text": [
      "Pulse rate: 89.60148514851485\n",
      "Systolic BP: 117.25\n",
      "Diastolic BP: 70.63861386138613\n",
      "\n",
      "Diastolic BP < 80: Huyết áp tối ưu \n",
      "Systolic BP <= 130: Huyết áp bình thường, 130<x<140: Tiền tăng huyết áp\n",
      "\n",
      "Diagnosis's classes:  {'1': np.float64(56.4), '2': np.float64(39.66), '3': np.float64(3.94)}\n"
     ]
    },
    {
     "name": "stderr",
     "output_type": "stream",
     "text": [
      "/tmp/ipykernel_85487/1056633048.py:13: FutureWarning: Downcasting behavior in `replace` is deprecated and will be removed in a future version. To retain the old behavior, explicitly call `result.infer_objects(copy=False)`. To opt-in to the future behavior, set `pd.set_option('future.no_silent_downcasting', True)`\n",
      "  df = df.replace('8(nặng xin về)', 8)\n",
      "/tmp/ipykernel_85487/1056633048.py:37: PerformanceWarning: DataFrame is highly fragmented.  This is usually the result of calling `frame.insert` many times, which has poor performance.  Consider joining all columns at once using pd.concat(axis=1) instead. To get a de-fragmented frame, use `newframe = frame.copy()`\n",
      "  df.insert(hematoma_idx.item(), 'hematoma', hema['stacked_int']) #get col index by its name\n",
      "/tmp/ipykernel_85487/1056633048.py:47: PerformanceWarning: DataFrame is highly fragmented.  This is usually the result of calling `frame.insert` many times, which has poor performance.  Consider joining all columns at once using pd.concat(axis=1) instead. To get a de-fragmented frame, use `newframe = frame.copy()`\n",
      "  df.insert(bleeding_idx.item(), 'Mucosa membrane bleeding', bleed['stacked_int'])\n",
      "/tmp/ipykernel_85487/1056633048.py:57: PerformanceWarning: DataFrame is highly fragmented.  This is usually the result of calling `frame.insert` many times, which has poor performance.  Consider joining all columns at once using pd.concat(axis=1) instead. To get a de-fragmented frame, use `newframe = frame.copy()`\n",
      "  df.insert(additional_diseases_idx.item(), 'additional_diseases', add_diseases['stacked_int'])\n"
     ]
    }
   ],
   "source": [
    "# Load dataset\n",
    "df = pd.read_csv(FULL_DATA_PATH, sep=\";\", header=3) #separator is ;\n",
    "# df = df.apply(pd.to_numeric, errors='coerce')\n",
    "\n",
    "# Drop redundant cols + rows\n",
    "df.drop(REDUNDANT_ROWS, inplace=True)\n",
    "\n",
    "df.reset_index(drop=True, inplace=True) #reset index\n",
    "df.drop(REDUNDANT_COLS, axis=1, inplace=True)\n",
    "\n",
    "df.fillna(FILLNA_VALUES) #df[1] = df[1].fillna(0)\n",
    "df['Other'] = pd.to_numeric(df['Other'], errors='coerce').fillna(1) #addtional diseases\n",
    "df = df.replace('8(nặng xin về)', 8)\n",
    "\n",
    "for i in HEART_INDEX:\n",
    "    df[i] = pd.to_numeric(df[i], errors='coerce')\n",
    "    print(f\"{i}: {df[str(i)].mean()}\")\n",
    "print(\"\\nDiastolic BP < 80: Huyết áp tối ưu \\nSystolic BP <= 130: Huyết áp bình thường, 130<x<140: Tiền tăng huyết áp\")\n",
    "\n",
    "# df.drop(HEART_INDEX, axis=1, inplace=True)\n",
    "\n",
    "uniques, counts = np.unique(df['Diagnosis'], return_counts=True)\n",
    "print('\\nDiagnosis\\'s classes: ',dict(zip(uniques, np.round(counts * 100 / len(df['Diagnosis']), 2))))\n",
    "df['Diagnosis'] = np.where(df['Diagnosis'] == '3', '2', df['Diagnosis'])\n",
    "df['Day of illness'] = np.where(df['Day of illness'] == '55', '5', df['Day of illness'])\n",
    "df['Systolic BP'] = np.where(df['Systolic BP'] == 1120, 120, df['Systolic BP'])\n",
    "\n",
    "\n",
    "# hematoma group\n",
    "hema = df[HEMATOMA_COLS]\n",
    "hema = hema.assign(stacked=hema.astype(str).agg(''.join, axis=1))\n",
    "hema['stacked'] = (pd.to_numeric(hema['stacked'], errors='coerce'))\n",
    "hema['stacked_int'] = np.where(hema['stacked'] == 0, 0, 1)\n",
    "# Get the integer position of the first hematoma column\n",
    "hematoma_idx = df.columns.get_indexer([HEMATOMA_COLS[0]])[0]\n",
    "#hematoma_idx.item() -> extract the value from np.int64 into native Python int\n",
    "df.insert(hematoma_idx.item(), 'hematoma', hema['stacked_int']) #get col index by its name\n",
    "df.drop(HEMATOMA_COLS, axis=1, inplace=True)\n",
    "\n",
    "# bleeding group\n",
    "bleed = df[BLEEDING_COLS]\n",
    "bleed = bleed.assign(stacked=bleed.astype(str).agg(''.join, axis=1))\n",
    "bleed['stacked'] = (pd.to_numeric(bleed['stacked'], errors='coerce'))\n",
    "bleed['stacked_int'] = np.where(bleed['stacked'] == 0, 0, 1)\n",
    "# Get the integer position of the first bleeding column\n",
    "bleeding_idx = df.columns.get_indexer([BLEEDING_COLS[0]])[0]\n",
    "df.insert(bleeding_idx.item(), 'Mucosa membrane bleeding', bleed['stacked_int'])\n",
    "df.drop(BLEEDING_COLS, axis=1, inplace=True)\n",
    "\n",
    "# additional diseases group\n",
    "add_diseases = df[ADDITIONAL_DISEASES]\n",
    "add_diseases = add_diseases.assign(stacked=add_diseases.astype(str).agg(''.join, axis=1))\n",
    "add_diseases['stacked'] = (pd.to_numeric(add_diseases['stacked'], errors='coerce'))\n",
    "add_diseases['stacked_int'] = np.where(add_diseases['stacked'] == 0, 0, 1)\n",
    "# Get the integer position of the first additional diseases column\n",
    "additional_diseases_idx = df.columns.get_indexer([ADDITIONAL_DISEASES[0]])[0]\n",
    "df.insert(additional_diseases_idx.item(), 'additional_diseases', add_diseases['stacked_int'])\n",
    "# df.insert(df.columns.get_loc(ADDITIONAL_DISEASES[0]), 'additional_diseases', add_diseases['stacked_int'])\n",
    "df.drop(ADDITIONAL_DISEASES, axis=1, inplace=True)\n"
   ]
  },
  {
   "cell_type": "code",
   "execution_count": 18,
   "id": "d059e4e6",
   "metadata": {},
   "outputs": [
    {
     "name": "stdout",
     "output_type": "stream",
     "text": [
      "x1_train shape:  (324, 21) y1_train shape:  (324,)\n",
      "x1_test shape:  (82, 21) y1_test shape:  (82,)\n",
      "percentage of classes:  {'1': np.float64(56.1), '2': np.float64(43.9)}\n"
     ]
    }
   ],
   "source": [
    "# df.drop(HEART_INDEX, axis=1, inplace=True)\n",
    "\n",
    "df_set = df.loc[:, 'Gende':'Oliguria'].copy().fillna(0)\n",
    "df_set = df_set.apply(pd.to_numeric, errors='coerce')\n",
    "\n",
    "x1_train, x1_test, y1_train, y1_test = train_test_split(df_set, df['Diagnosis'], \\\n",
    "                                                    test_size=0.2, random_state=14, stratify=df['Diagnosis'])\n",
    "x1_features = x1_train.columns\n",
    "\n",
    "# x1_train, x1_test, y1_train, y1_test = x1_train.to_numpy(), x1_test.to_numpy(), y1_train.to_numpy(), y1_test.to_numpy()\n",
    "\n",
    "print('x1_train shape: ', x1_train.shape, 'y1_train shape: ',  y1_train.shape)\n",
    "print('x1_test shape: ', x1_test.shape, 'y1_test shape: ',  y1_test.shape)\n",
    "uniques, counts = np.unique(y1_test, return_counts=True)\n",
    "print('percentage of classes: ',dict(zip(uniques, np.round(counts * 100 / len(y1_test), 2))))"
   ]
  },
  {
   "cell_type": "code",
   "execution_count": 19,
   "id": "64352cc2",
   "metadata": {},
   "outputs": [
    {
     "name": "stdout",
     "output_type": "stream",
     "text": [
      "Accuracy: 0.7682926829268293\n",
      "Confusion Matrix:\n",
      " [[37  9]\n",
      " [10 26]]\n",
      "Classification Report:\n",
      "               precision    recall  f1-score   support\n",
      "\n",
      "           1       0.79      0.80      0.80        46\n",
      "           2       0.74      0.72      0.73        36\n",
      "\n",
      "    accuracy                           0.77        82\n",
      "   macro avg       0.77      0.76      0.76        82\n",
      "weighted avg       0.77      0.77      0.77        82\n",
      "\n"
     ]
    }
   ],
   "source": [
    "model = ExtraTreesClassifier(\n",
    "    n_estimators=100,\n",
    "    max_depth=None,\n",
    "    random_state=42,\n",
    "    class_weight='balanced'  # helpful for imbalanced classes\n",
    ")\n",
    "model.fit(x1_train, y1_train)\n",
    "\n",
    "y_pred = model.predict(x1_test)\n",
    "\n",
    "print(\"Accuracy:\", accuracy_score(y1_test, y_pred))\n",
    "print(\"Confusion Matrix:\\n\", confusion_matrix(y1_test, y_pred))\n",
    "print(\"Classification Report:\\n\", classification_report(y1_test, y_pred))"
   ]
  },
  {
   "cell_type": "code",
   "execution_count": null,
   "id": "0e7b3aa4",
   "metadata": {},
   "outputs": [
    {
     "name": "stdout",
     "output_type": "stream",
     "text": [
      "Best Params: {'max_depth': 10, 'min_samples_split': 5, 'n_estimators': 100}\n"
     ]
    }
   ],
   "source": [
    "param_grid = {\n",
    "    'n_estimators': [100, 300, 500],\n",
    "    'max_depth': [None, 10, 20],\n",
    "    'min_samples_split': [2, 5],\n",
    "}\n",
    "\n",
    "grid_search = GridSearchCV(ExtraTreesClassifier(random_state=42), param_grid, cv=5)\n",
    "grid_search.fit(x1_train, y1_train)\n",
    "print(\"Best Params:\", grid_search.best_params_)\n",
    "\n",
    "best_model = grid_search.best_estimator_\n",
    "y_pred = model.predict(x1_test)\n",
    "\n",
    "print(\"Accuracy:\", accuracy_score(y1_test, y_pred))\n",
    "print(\"Confusion Matrix:\\n\", confusion_matrix(y1_test, y_pred))\n",
    "print(\"Classification Report:\\n\", classification_report(y1_test, y_pred))"
   ]
  },
  {
   "cell_type": "code",
   "execution_count": 25,
   "id": "b48de4f0",
   "metadata": {},
   "outputs": [
    {
     "name": "stdout",
     "output_type": "stream",
     "text": [
      "Accuracy: 0.7682926829268293\n",
      "Confusion Matrix:\n",
      " [[37  9]\n",
      " [10 26]]\n",
      "Classification Report:\n",
      "               precision    recall  f1-score   support\n",
      "\n",
      "           1       0.79      0.80      0.80        46\n",
      "           2       0.74      0.72      0.73        36\n",
      "\n",
      "    accuracy                           0.77        82\n",
      "   macro avg       0.77      0.76      0.76        82\n",
      "weighted avg       0.77      0.77      0.77        82\n",
      "\n"
     ]
    }
   ],
   "source": [
    "best_model = grid_search.best_estimator_\n",
    "y_pred = model.predict(x1_test)\n",
    "\n",
    "print(\"Accuracy:\", accuracy_score(y1_test, y_pred))\n",
    "print(\"Confusion Matrix:\\n\", confusion_matrix(y1_test, y_pred))\n",
    "print(\"Classification Report:\\n\", classification_report(y1_test, y_pred))"
   ]
  },
  {
   "cell_type": "code",
   "execution_count": 26,
   "id": "f40e71c0",
   "metadata": {},
   "outputs": [
    {
     "name": "stdout",
     "output_type": "stream",
     "text": [
      "Cross-validation accuracy scores: [0.78461538 0.67692308 0.76923077 0.67692308 0.78125   ]\n",
      "Mean CV accuracy: 0.7377884615384616\n"
     ]
    }
   ],
   "source": [
    "scores = cross_val_score(best_model, x1_train, y1_train, cv=5)\n",
    "print(\"Cross-validation accuracy scores:\", scores)\n",
    "print(\"Mean CV accuracy:\", scores.mean())"
   ]
  },
  {
   "cell_type": "code",
   "execution_count": 29,
   "id": "7ccb3b68",
   "metadata": {},
   "outputs": [
    {
     "data": {
      "image/png": "[encoded data removed]",
      "text/plain": [
       "<Figure size 1000x600 with 1 Axes>"
      ]
     },
     "metadata": {},
     "output_type": "display_data"
    }
   ],
   "source": [
    "importances = best_model.feature_importances_\n",
    "indices = np.argsort(importances)[::-1]\n",
    "\n",
    "# Plot top 20 features\n",
    "plt.figure(figsize=(10, 6))\n",
    "sns.barplot(x=importances[indices][:20], y=x1_train.columns[indices][:20])\n",
    "plt.title(\"Extra Trees Classifier 0.77 Top 20 Feature Importances\")\n",
    "plt.show()"
   ]
  },
  {
   "cell_type": "code",
   "execution_count": 30,
   "id": "7f337ba1",
   "metadata": {},
   "outputs": [
    {
     "name": "stdout",
     "output_type": "stream",
     "text": [
      "Cross-validated scores: [0.78461538 0.67692308 0.76923077 0.67692308 0.78125   ]\n",
      "Mean accuracy: 0.7377884615384616 ± 0.04995893283902489\n"
     ]
    }
   ],
   "source": [
    "scores = cross_val_score(best_model, x1_train, y1_train, cv=5)\n",
    "print(f\"Cross-validated scores: {scores}\")\n",
    "print(f\"Mean accuracy: {scores.mean()} ± {scores.std()}\")"
   ]
  }
 ],
 "metadata": {
  "kernelspec": {
   "display_name": "108-env",
   "language": "python",
   "name": "python3"
  },
  "language_info": {
   "codemirror_mode": {
    "name": "ipython",
    "version": 3
   },
   "file_extension": ".py",
   "mimetype": "text/x-python",
   "name": "python",
   "nbconvert_exporter": "python",
   "pygments_lexer": "ipython3",
   "version": "3.12.3"
  }
 },
 "nbformat": 4,
 "nbformat_minor": 5
}
