{
 "cells": [
  {
   "cell_type": "code",
   "execution_count": 1,
   "id": "7cce7715",
   "metadata": {
    "vscode": {
     "languageId": "markdown"
    }
   },
   "outputs": [],
   "source": [
    "\"\"\"\n",
    "author: Vetivert? 💐 \n",
    "created: 16/04/2025 @ 16:07:49\n",
    "\"\"\"\n",
    "\n",
    "import numpy as np # type: ignore\n",
    "import matplotlib.pyplot as plt # type: ignore\n",
    "import pandas as pd # type: ignore\n",
    "import seaborn as sns # type: ignore\n",
    "\n",
    "from sklearn.model_selection import train_test_split, cross_val_score, StratifiedKFold # type: ignore\n",
    "from sklearn.preprocessing import StandardScaler, label_binarize # type: ignore\n",
    "from sklearn.metrics import accuracy_score, classification_report, roc_curve, auc # type: ignore\n",
    "from sklearn.ensemble import RandomForestClassifier # type: ignore\n",
    "\n",
    "import sys\n",
    "import os\n",
    "\n",
    "current_dir = os.path.abspath('')\n",
    "\n",
    "parent_dir = os.path.dirname(current_dir)\n",
    "sys.path.append(parent_dir)\n",
    "\n",
    "from src.utils.prefix_path import *\n",
    "from src.utils.functions import *\n"
   ]
  },
  {
   "cell_type": "code",
   "execution_count": null,
   "id": "b051d849",
   "metadata": {
    "vscode": {
     "languageId": "markdown"
    }
   },
   "outputs": [],
   "source": [
    "# Load dataset\n",
    "df = pd.read_csv(FULL_DATA_PATH, sep=\";\", header=3) #separator is ;\n",
    "# df = df.apply(pd.to_numeric, errors='coerce')\n",
    "\n",
    "# Drop redundant cols + rows\n",
    "df.drop(REDUNDANT_ROWS, inplace=True)\n",
    "df.index = range(len(df)) #reset index\n",
    "df.drop(REDUNDANT_COLS, axis=1, inplace=True)\n",
    "\n",
    "df.fillna(FILLNA_VALUES) #df[1] = df[1].fillna(0)\n",
    "df['Other'] = pd.to_numeric(df['Other'], errors='coerce').fillna(1) #addtional diseases\n",
    "df.iloc[np.where(df == '8(nặng xin về)')] = 8\n",
    "\n",
    "for i in HEART_INDEX:\n",
    "    df[i] = pd.to_numeric(df[i], errors='coerce')\n",
    "    print(f\"{i}: {df[str(i)].mean()}\")\n",
    "print(\"\\nDiastolic BP < 80: Huyết áp tối ưu \\nSystolic BP <= 130: Huyết áp bình thường, 130<x<140: Tiền tăng huyết áp\")\n",
    "\n",
    "# df.drop(HEART_INDEX, axis=1, inplace=True)\n",
    "\n",
    "uniques, counts = np.unique(df['Diagnosis'], return_counts=True)\n",
    "print('\\nDiagnosis\\'s classes: ',dict(zip(uniques, np.round(counts * 100 / len(df['Diagnosis']), 2))))\n",
    "df['Diagnosis'] = np.where(df['Diagnosis'] == '3', '2', df['Diagnosis'])\n",
    "df['Day of illness'] = np.where(df['Day of illness'] == '55', '5', df['Day of illness'])\n",
    "df['Systolic BP'] = np.where(df['Systolic BP'] == 1120, 120, df['Systolic BP'])\n",
    "\n",
    "\n",
    "# hematoma group\n",
    "hema = df[HEMATOMA_COLS]\n",
    "hema = hema.assign(stacked=hema.astype(str).agg(''.join, axis=1))\n",
    "hema\n",
    "hema['stacked'] = (pd.to_numeric(hema['stacked'], errors='coerce'))\n",
    "hema['stacked_int'] = np.where(hema['stacked'] == 0, 0, 1)\n",
    "\n",
    "df.insert(df.columns.get_loc(HEMATOMA_COLS[0]), 'hematoma', hema['stacked_int']) #get col index by its name\n",
    "df.drop(HEMATOMA_COLS, axis=1, inplace=True)\n",
    "\n",
    "# bleeding group\n",
    "bleed = df[BLEEDING_COLS]\n",
    "bleed = bleed.assign(stacked=bleed.astype(str).agg(''.join, axis=1))\n",
    "bleed['stacked'] = (pd.to_numeric(bleed['stacked'], errors='coerce'))\n",
    "bleed['stacked_int'] = np.where(bleed['stacked'] == 0, 0, 1)\n",
    "\n",
    "df.insert(df.columns.get_loc(BLEEDING_COLS[0]), 'Mucosa membrane bleeding', bleed['stacked_int'])\n",
    "df.drop(BLEEDING_COLS, axis=1, inplace=True)\n",
    "\n",
    "# additional diseases group\n",
    "add_diseases = df[ADDITIONAL_DISEASES]\n",
    "add_diseases = add_diseases.assign(stacked=add_diseases.astype(str).agg(''.join, axis=1))\n",
    "add_diseases['stacked'] = (pd.to_numeric(add_diseases['stacked'], errors='coerce'))\n",
    "add_diseases['stacked_int'] = np.where(add_diseases['stacked'] == 0, 0, 1)\n",
    "\n",
    "df.insert(df.columns.get_loc(ADDITIONAL_DISEASES[0]), 'additional_diseases', add_diseases['stacked_int'])\n",
    "df.drop(ADDITIONAL_DISEASES, axis=1, inplace=True)\n"
   ]
  },
  {
   "cell_type": "code",
   "execution_count": null,
   "id": "40473ca8",
   "metadata": {
    "vscode": {
     "languageId": "markdown"
    }
   },
   "outputs": [],
   "source": [
    "# strategy 1, 20% test_set = 0.2 * range(line 0, line 221) + 0.2 * range(line 222, line 407)\n",
    "df_set = df.loc[222:, :'Oliguria'].copy().fillna(0)\n",
    "\n",
    "x1_train, x1_test, y1_train, y1_test = train_test_split(df_set.drop(columns=['Diagnosis']), df_set['Diagnosis'], \\\n",
    "                                                    test_size=0.2, random_state=None, stratify=df_set['Diagnosis'])\n",
    "print('x1_train shape: ', x1_train.shape, 'y1_train shape: ',  y1_train.shape)\n",
    "print('x1_test shape: ', x1_test.shape, 'y1_test shape: ',  y1_test.shape)\n",
    "uniques, counts = np.unique(y1_test, return_counts=True)\n",
    "print('percentage of classes: ',dict(zip(uniques, np.round(counts * 100 / len(y1_test), 2))))\n",
    "\n",
    "rf_1 = RandomForestClassifier(n_estimators=100, random_state=None)\n",
    "rf_1.fit(x1_train, y1_train)\n",
    "\n",
    "y1_pred = rf_1.predict(x1_test)\n",
    "accuracy = accuracy_score(y1_test, y1_pred)\n",
    "print(f\"Accuracy: {accuracy:.2f}\")\n",
    "# print(classification_report(y1_test, y1_pred))\n",
    "\n",
    "uniques, counts = np.unique(y1_pred, return_counts=True)\n",
    "print('percentage of predictions: ',dict(zip(uniques, np.round(counts * 100 / len(y1_pred), 2))))\n",
    "\n",
    "# Plotting feature importances\n",
    "importances = rf_1.feature_importances_\n",
    "indices = np.argsort(importances)[::-1]\n",
    "features = x1_train.columns\n",
    "plt.figure(figsize=(12, 8))\n",
    "plt.title(\"Feature importances\")\n",
    "plt.bar(range(x1_train.shape[1]), importances[indices], align=\"center\")\n",
    "plt.xticks(range(x1_train.shape[1]), features[indices], rotation=90)\n",
    "plt.xlim([-1, x1_train.shape[1]])\n",
    "plt.axhline(y=importances.mean(), color='r', linestyle='--')\n",
    "plt.show()"
   ]
  }
 ],
 "metadata": {
  "kernelspec": {
   "display_name": "Python 3",
   "language": "python",
   "name": "python3"
  },
  "language_info": {
   "codemirror_mode": {
    "name": "ipython",
    "version": 3
   },
   "file_extension": ".py",
   "mimetype": "text/x-python",
   "name": "python",
   "nbconvert_exporter": "python",
   "pygments_lexer": "ipython3",
   "version": "3.10.12"
  }
 },
 "nbformat": 4,
 "nbformat_minor": 5
}
