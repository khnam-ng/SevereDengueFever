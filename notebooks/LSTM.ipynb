{
 "cells": [
  {
   "cell_type": "code",
   "execution_count": 1,
   "id": "03dbfaf9",
   "metadata": {},
   "outputs": [
    {
     "data": {
      "text/plain": [
       "'author: Vetivert? 💐 \\ncreated: 28/05/2025 @ 01:47:24'"
      ]
     },
     "execution_count": 1,
     "metadata": {},
     "output_type": "execute_result"
    }
   ],
   "source": [
    "\"\"\"author: Vetivert? 💐 \n",
    "created: 28/05/2025 @ 01:47:24\"\"\""
   ]
  },
  {
   "cell_type": "markdown",
   "id": "9a02dc24",
   "metadata": {},
   "source": [
    "# LOAD DATA"
   ]
  },
  {
   "cell_type": "code",
   "execution_count": null,
   "id": "0adcf533",
   "metadata": {},
   "outputs": [],
   "source": [
    "import numpy as np \n",
    "import matplotlib.pyplot as plt \n",
    "import matplotlib as mpl \n",
    "import pandas as pd \n",
    "import seaborn as sns \n",
    "\n",
    "from sklearn.model_selection import train_test_split, cross_val_score, StratifiedKFold, RandomizedSearchCV, GridSearchCV \n",
    "from sklearn.preprocessing import StandardScaler, label_binarize \n",
    "from sklearn.metrics import (classification_report, roc_auc_score, roc_curve, confusion_matrix, \n",
    "                             accuracy_score, precision_score, recall_score, f1_score, \n",
    "                             mean_squared_error, r2_score, roc_auc_score, make_scorer) \n",
    "\n",
    "import tensorflow as tf \n",
    "from tensorflow.keras.models import Sequential \n",
    "from tensorflow.keras.layers import Input, LSTM, Bidirectional, Dense, Dropout, Masking \n",
    "from tensorflow.keras.utils import to_categorical \n",
    "from tensorflow.keras.optimizers import Adam \n",
    "from tensorflow.keras.callbacks import EarlyStopping, ModelCheckpoint \n",
    "\n",
    "\n",
    "import sys\n",
    "import os\n",
    "\n",
    "current_dir = os.path.abspath('')\n",
    "\n",
    "parent_dir = os.path.dirname(current_dir)\n",
    "sys.path.append(parent_dir)\n",
    "\n",
    "from src.utils.prefix_path import *\n",
    "# from src.utils.models import *\n",
    "from src.utils.functions import *"
   ]
  },
  {
   "cell_type": "code",
   "execution_count": null,
   "id": "d4da1822",
   "metadata": {},
   "outputs": [],
   "source": [
    "# Load dataset\n",
    "df = pd.read_csv(FULL_DATA_PATH, sep=\";\", header=3) #separator is ;\n",
    "# df = df.apply(pd.to_numeric, errors='coerce')\n",
    "\n",
    "# Drop redundant cols + rows\n",
    "df.drop(REDUNDANT_ROWS, inplace=True)\n",
    "\n",
    "df.reset_index(drop=True, inplace=True) #reset index\n",
    "df.drop(REDUNDANT_COLS, axis=1, inplace=True)\n",
    "\n",
    "df.fillna(FILLNA_VALUES) #df[1] = df[1].fillna(0)\n",
    "df['Other'] = pd.to_numeric(df['Other'], errors='coerce').fillna(1) #addtional diseases\n",
    "df = df.replace('8(nặng xin về)', 8)\n",
    "\n",
    "for i in HEART_INDEX:\n",
    "    df[i] = pd.to_numeric(df[i], errors='coerce')\n",
    "    print(f\"{i}: {df[str(i)].mean()}\")\n",
    "print(\"\\nDiastolic BP < 80: Huyết áp tối ưu \\nSystolic BP <= 130: Huyết áp bình thường, 130<x<140: Tiền tăng huyết áp\")\n",
    "\n",
    "# df.drop(HEART_INDEX, axis=1, inplace=True)\n",
    "\n",
    "uniques, counts = np.unique(df['Diagnosis'], return_counts=True)\n",
    "print('\\nDiagnosis\\'s classes: ',dict(zip(uniques, np.round(counts * 100 / len(df['Diagnosis']), 2))))\n",
    "df['Diagnosis'] = np.where(df['Diagnosis'] == '3', '2', df['Diagnosis'])\n",
    "df['Day of illness'] = np.where(df['Day of illness'] == '55', '5', df['Day of illness'])\n",
    "df['Systolic BP'] = np.where(df['Systolic BP'] == 1120, 120, df['Systolic BP'])\n",
    "\n",
    "\n",
    "# hematoma group\n",
    "hema = df[HEMATOMA_COLS]\n",
    "hema = hema.assign(stacked=hema.astype(str).agg(''.join, axis=1))\n",
    "hema['stacked'] = (pd.to_numeric(hema['stacked'], errors='coerce'))\n",
    "hema['stacked_int'] = np.where(hema['stacked'] == 0, 0, 1)\n",
    "# Get the integer position of the first hematoma column\n",
    "hematoma_idx = df.columns.get_indexer([HEMATOMA_COLS[0]])[0]\n",
    "#hematoma_idx.item() -> extract the value from np.int64 into native Python int\n",
    "df.insert(hematoma_idx.item(), 'hematoma', hema['stacked_int']) #get col index by its name\n",
    "df.drop(HEMATOMA_COLS, axis=1, inplace=True)\n",
    "\n",
    "# bleeding group\n",
    "bleed = df[BLEEDING_COLS]\n",
    "bleed = bleed.assign(stacked=bleed.astype(str).agg(''.join, axis=1))\n",
    "bleed['stacked'] = (pd.to_numeric(bleed['stacked'], errors='coerce'))\n",
    "bleed['stacked_int'] = np.where(bleed['stacked'] == 0, 0, 1)\n",
    "# Get the integer position of the first bleeding column\n",
    "bleeding_idx = df.columns.get_indexer([BLEEDING_COLS[0]])[0]\n",
    "df.insert(bleeding_idx.item(), 'Mucosa membrane bleeding', bleed['stacked_int'])\n",
    "df.drop(BLEEDING_COLS, axis=1, inplace=True)\n",
    "\n",
    "# additional diseases group\n",
    "add_diseases = df[ADDITIONAL_DISEASES]\n",
    "add_diseases = add_diseases.assign(stacked=add_diseases.astype(str).agg(''.join, axis=1))\n",
    "add_diseases['stacked'] = (pd.to_numeric(add_diseases['stacked'], errors='coerce'))\n",
    "add_diseases['stacked_int'] = np.where(add_diseases['stacked'] == 0, 0, 1)\n",
    "# Get the integer position of the first additional diseases column\n",
    "additional_diseases_idx = df.columns.get_indexer([ADDITIONAL_DISEASES[0]])[0]\n",
    "df.insert(additional_diseases_idx.item(), 'additional_diseases', add_diseases['stacked_int'])\n",
    "# df.insert(df.columns.get_loc(ADDITIONAL_DISEASES[0]), 'additional_diseases', add_diseases['stacked_int'])\n",
    "df.drop(ADDITIONAL_DISEASES, axis=1, inplace=True)\n"
   ]
  },
  {
   "cell_type": "markdown",
   "id": "4ba04711",
   "metadata": {},
   "source": [
    "# LSTM"
   ]
  },
  {
   "cell_type": "code",
   "execution_count": null,
   "id": "3180ef39",
   "metadata": {},
   "outputs": [],
   "source": []
  }
 ],
 "metadata": {
  "kernelspec": {
   "display_name": "108-env",
   "language": "python",
   "name": "python3"
  },
  "language_info": {
   "codemirror_mode": {
    "name": "ipython",
    "version": 3
   },
   "file_extension": ".py",
   "mimetype": "text/x-python",
   "name": "python",
   "nbconvert_exporter": "python",
   "pygments_lexer": "ipython3",
   "version": "3.12.3"
  }
 },
 "nbformat": 4,
 "nbformat_minor": 5
}
