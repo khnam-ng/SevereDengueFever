{
 "cells": [
  {
   "cell_type": "code",
   "execution_count": 1,
   "id": "891bd6c8",
   "metadata": {},
   "outputs": [
    {
     "data": {
      "text/plain": [
       "'author: Vetivert? 💐 \\ncreated: 15/05/2025 @ 04:26:51'"
      ]
     },
     "execution_count": 1,
     "metadata": {},
     "output_type": "execute_result"
    }
   ],
   "source": [
    "\"\"\"author: Vetivert? 💐 \n",
    "created: 15/05/2025 @ 04:26:51\"\"\""
   ]
  },
  {
   "cell_type": "markdown",
   "id": "ac654afc",
   "metadata": {},
   "source": [
    "# LOAD DATA"
   ]
  },
  {
   "cell_type": "code",
   "execution_count": null,
   "id": "71a02839",
   "metadata": {},
   "outputs": [],
   "source": []
  }
 ],
 "metadata": {
  "kernelspec": {
   "display_name": "Python 3",
   "language": "python",
   "name": "python3"
  },
  "language_info": {
   "codemirror_mode": {
    "name": "ipython",
    "version": 3
   },
   "file_extension": ".py",
   "mimetype": "text/x-python",
   "name": "python",
   "nbconvert_exporter": "python",
   "pygments_lexer": "ipython3",
   "version": "3.10.12"
  }
 },
 "nbformat": 4,
 "nbformat_minor": 5
}
