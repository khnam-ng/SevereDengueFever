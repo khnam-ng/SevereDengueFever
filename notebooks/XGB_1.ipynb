{
 "cells": [
  {
   "cell_type": "code",
   "execution_count": 1,
   "id": "91842690",
   "metadata": {},
   "outputs": [
    {
     "data": {
      "text/plain": [
       "'author: Vetivert? 💐 \\ncreated: 13/05/2025 @ 02:27:32'"
      ]
     },
     "execution_count": 1,
     "metadata": {},
     "output_type": "execute_result"
    }
   ],
   "source": [
    "\"\"\"author: Vetivert? 💐 \n",
    "created: 13/05/2025 @ 02:27:32\"\"\""
   ]
  },
  {
   "cell_type": "markdown",
   "id": "0ea6c16f",
   "metadata": {},
   "source": [
    "# LOAD DATA"
   ]
  },
  {
   "cell_type": "code",
   "execution_count": 2,
   "id": "38ec7ca8",
   "metadata": {},
   "outputs": [],
   "source": [
    "import numpy as np # type: ignore\n",
    "import matplotlib.pyplot as plt # type: ignore\n",
    "import matplotlib as mpl # type: ignore\n",
    "import pandas as pd # type: ignore\n",
    "import seaborn as sns # type: ignore\n",
    "\n",
    "from sklearn.model_selection import train_test_split, cross_val_score, StratifiedKFold, RandomizedSearchCV, GridSearchCV # type: ignore\n",
    "from sklearn.preprocessing import StandardScaler, label_binarize # type: ignore\n",
    "from sklearn.metrics import accuracy_score, classification_report, roc_auc_score, roc_curve, confusion_matrix, make_scorer # type: ignore\n",
    "from sklearn.ensemble import RandomForestClassifier # type: ignore\n",
    "from scipy.stats import randint, uniform # type: ignore\n",
    "from mpl_toolkits.axes_grid1 import make_axes_locatable\n",
    "\n",
    "import sys\n",
    "import os\n",
    "\n",
    "current_dir = os.path.abspath('')\n",
    "\n",
    "parent_dir = os.path.dirname(current_dir)\n",
    "sys.path.append(parent_dir)\n",
    "\n",
    "from src.utils.prefix_path import *\n",
    "from src.utils.functions import *"
   ]
  },
  {
   "cell_type": "code",
   "execution_count": 3,
   "id": "d6b4207b",
   "metadata": {},
   "outputs": [
    {
     "name": "stdout",
     "output_type": "stream",
     "text": [
      "Pulse rate: 89.60148514851485\n",
      "Systolic BP: 117.25\n",
      "Diastolic BP: 70.63861386138613\n",
      "\n",
      "Diastolic BP < 80: Huyết áp tối ưu \n",
      "Systolic BP <= 130: Huyết áp bình thường, 130<x<140: Tiền tăng huyết áp\n",
      "\n",
      "Diagnosis's classes:  {'1': 56.4, '2': 39.66, '3': 3.94}\n"
     ]
    }
   ],
   "source": [
    "# Load dataset\n",
    "df = pd.read_csv(FULL_DATA_PATH, sep=\";\", header=3) #separator is ;\n",
    "# df = df.apply(pd.to_numeric, errors='coerce')\n",
    "\n",
    "# Drop redundant cols + rows\n",
    "df.drop(REDUNDANT_ROWS, inplace=True)\n",
    "df.index = range(len(df)) #reset index\n",
    "df.drop(REDUNDANT_COLS, axis=1, inplace=True)\n",
    "\n",
    "df.fillna(FILLNA_VALUES) #df[1] = df[1].fillna(0)\n",
    "df['Other'] = pd.to_numeric(df['Other'], errors='coerce').fillna(1) #addtional diseases\n",
    "df.iloc[np.where(df == '8(nặng xin về)')] = 8\n",
    "\n",
    "for i in HEART_INDEX:\n",
    "    df[i] = pd.to_numeric(df[i], errors='coerce')\n",
    "    print(f\"{i}: {df[str(i)].mean()}\")\n",
    "print(\"\\nDiastolic BP < 80: Huyết áp tối ưu \\nSystolic BP <= 130: Huyết áp bình thường, 130<x<140: Tiền tăng huyết áp\")\n",
    "\n",
    "# df.drop(HEART_INDEX, axis=1, inplace=True)\n",
    "\n",
    "uniques, counts = np.unique(df['Diagnosis'], return_counts=True)\n",
    "print('\\nDiagnosis\\'s classes: ',dict(zip(uniques, np.round(counts * 100 / len(df['Diagnosis']), 2))))\n",
    "# df['Diagnosis'] = np.where(df['Diagnosis'] == '3', '2', df['Diagnosis'])\n",
    "df['Day of illness'] = np.where(df['Day of illness'] == '55', '5', df['Day of illness'])\n",
    "df['Systolic BP'] = np.where(df['Systolic BP'] == 1120, 120, df['Systolic BP'])\n",
    "\n",
    "\n",
    "# hematoma group\n",
    "hema = df[HEMATOMA_COLS]\n",
    "hema = hema.assign(stacked=hema.astype(str).agg(''.join, axis=1))\n",
    "hema\n",
    "hema['stacked'] = (pd.to_numeric(hema['stacked'], errors='coerce'))\n",
    "hema['stacked_int'] = np.where(hema['stacked'] == 0, 0, 1)\n",
    "\n",
    "df.insert(df.columns.get_loc(HEMATOMA_COLS[0]), 'hematoma', hema['stacked_int']) #get col index by its name\n",
    "df.drop(HEMATOMA_COLS, axis=1, inplace=True)\n",
    "\n",
    "# bleeding group\n",
    "bleed = df[BLEEDING_COLS]\n",
    "bleed = bleed.assign(stacked=bleed.astype(str).agg(''.join, axis=1))\n",
    "bleed['stacked'] = (pd.to_numeric(bleed['stacked'], errors='coerce'))\n",
    "bleed['stacked_int'] = np.where(bleed['stacked'] == 0, 0, 1)\n",
    "\n",
    "df.insert(df.columns.get_loc(BLEEDING_COLS[0]), 'Mucosa membrane bleeding', bleed['stacked_int'])\n",
    "df.drop(BLEEDING_COLS, axis=1, inplace=True)\n",
    "\n",
    "# additional diseases group\n",
    "add_diseases = df[ADDITIONAL_DISEASES]\n",
    "add_diseases = add_diseases.assign(stacked=add_diseases.astype(str).agg(''.join, axis=1))\n",
    "add_diseases['stacked'] = (pd.to_numeric(add_diseases['stacked'], errors='coerce'))\n",
    "add_diseases['stacked_int'] = np.where(add_diseases['stacked'] == 0, 0, 1)\n",
    "\n",
    "df.insert(df.columns.get_loc(ADDITIONAL_DISEASES[0]), 'additional_diseases', add_diseases['stacked_int'])\n",
    "df.drop(ADDITIONAL_DISEASES, axis=1, inplace=True)\n"
   ]
  },
  {
   "cell_type": "markdown",
   "id": "43b5ed2a",
   "metadata": {},
   "source": [
    "# XGBOOST"
   ]
  },
  {
   "cell_type": "code",
   "execution_count": null,
   "id": "d6eb843f",
   "metadata": {},
   "outputs": [],
   "source": []
  }
 ],
 "metadata": {
  "kernelspec": {
   "display_name": "Python 3",
   "language": "python",
   "name": "python3"
  },
  "language_info": {
   "codemirror_mode": {
    "name": "ipython",
    "version": 3
   },
   "file_extension": ".py",
   "mimetype": "text/x-python",
   "name": "python",
   "nbconvert_exporter": "python",
   "pygments_lexer": "ipython3",
   "version": "3.10.12"
  }
 },
 "nbformat": 4,
 "nbformat_minor": 5
}
