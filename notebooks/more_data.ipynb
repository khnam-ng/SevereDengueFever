{
 "cells": [
  {
   "cell_type": "code",
   "execution_count": 1,
   "id": "d2c8feeb",
   "metadata": {},
   "outputs": [
    {
     "data": {
      "text/plain": [
       "'author: Vetivert? 💐 \\ncreated: 05/06/2025 @ 21:58:06'"
      ]
     },
     "execution_count": 1,
     "metadata": {},
     "output_type": "execute_result"
    }
   ],
   "source": [
    "\"\"\"author: Vetivert? 💐 \n",
    "created: 05/06/2025 @ 21:58:06\"\"\""
   ]
  },
  {
   "cell_type": "code",
   "execution_count": null,
   "id": "f18d5f8a",
   "metadata": {},
   "outputs": [],
   "source": [
    "import numpy as np \n",
    "import matplotlib.pyplot as plt \n",
    "import matplotlib as mpl \n",
    "import pandas as pd \n",
    "import seaborn as sns \n",
    "\n",
    "import sys\n",
    "import os\n",
    "\n",
    "current_dir = os.path.abspath('')\n",
    "\n",
    "parent_dir = os.path.dirname(current_dir)\n",
    "sys.path.append(parent_dir)\n",
    "\n",
    "from src.utils.prefix_path import *\n",
    "# from src.utils.models import *\n",
    "from src.utils.functions import *"
   ]
  }
 ],
 "metadata": {
  "kernelspec": {
   "display_name": "108-env",
   "language": "python",
   "name": "python3"
  },
  "language_info": {
   "codemirror_mode": {
    "name": "ipython",
    "version": 3
   },
   "file_extension": ".py",
   "mimetype": "text/x-python",
   "name": "python",
   "nbconvert_exporter": "python",
   "pygments_lexer": "ipython3",
   "version": "3.12.3"
  }
 },
 "nbformat": 4,
 "nbformat_minor": 5
}
