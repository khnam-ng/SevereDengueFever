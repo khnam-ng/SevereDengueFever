{
 "cells": [
  {
   "cell_type": "code",
   "execution_count": null,
   "id": "088e3058",
   "metadata": {},
   "outputs": [
    {
     "data": {
      "text/plain": [
       "'author: Vetivert? 💐 \\ncreated: 17/06/2025 @ 14:46:26'"
      ]
     },
     "execution_count": 1,
     "metadata": {},
     "output_type": "execute_result"
    }
   ],
   "source": [
    "\"\"\"author: Vetivert? 💐 \n",
    "created: 17/06/2025 @ 14:46:26\"\"\""
   ]
  },
  {
   "cell_type": "code",
   "execution_count": null,
   "id": "fc204495",
   "metadata": {},
   "outputs": [],
   "source": [
    "import numpy as np\n",
    "import matplotlib.pyplot as plt\n",
    "\n",
    "from sklearn.metrics import accuracy_score, classification_report, roc_auc_score, roc_curve, confusion_matrix, make_scorer, ConfusionMatrixDisplay\n",
    "\n",
    "import sys\n",
    "import os\n",
    "\n",
    "current_dir = os.path.abspath('')\n",
    "\n",
    "parent_dir = os.path.dirname(current_dir)\n",
    "sys.path.append(parent_dir)\n",
    "\n",
    "from src.utils.prefix_path import *\n",
    "# from src.utils.models import *\n",
    "from src.utils.functions import *"
   ]
  },
  {
   "cell_type": "code",
   "execution_count": null,
   "id": "fbd318f9",
   "metadata": {},
   "outputs": [],
   "source": [
    "RF_full_pred = np.array([1, 2, 2, 2, 2, 2, 2, 1, 1, 2, 2, 2, 1, 1, 2, 1, 1, 2, 1, 1, 1, 2, 2, 1, 2, 1, 1, 2, 2, 1, 1, 1, 2, 1, 1, 2, 1, \n",
    " 1, 2, 1, 1, 1, 1, 2, 1, 2, 1, 2, 1, 2, 1, 1, 1, 2, 2, 2, 2, 1, 1, 2, 2, 1, 1, 1, 2, 1, 2, 2, 1, 1, 1, 2, 1, 2, \n",
    " 1, 2, 1, 1, 1, 1, 1, 2, 1, 2, 1, 1, 1, 1, 1, 1, 1, 1, 2, 1, 1, 1, 2, 2, 2, 2, 1, 1, 2, 2, 2, 1, 2, 1, 1, 2, 2, \n",
    " 2, 1, 1, 2, 2, 1, 1, 2, 1, 2, 2, 1, 1, 2, 1, 1, 1, 1, 2, 1, 2, 2, 1, 1, 1, 1, 2, 2, 1, 1, 2, 2, 1, 1, 1, 1, 2, \n",
    " 1, 1, 2, 2, 1, 2, 2, 1, 2, 2, 1, 1, 1, 2, 1, 1, 2, 1, 2, 2, 1, 1, 2, 2, 1, 2, 1, 1, 1, 2, 2,])\n",
    "\n",
    "RF_full_test = np.array([1, 1, 2, 2, 2, 2, 2, 1, 1, 2, 2, 1, 1, 1, 1, 1, 2, 2, 1, 1, 1, 2, 2, 2, 2, 1, 1, 2, 2, 1, 1, 1, 2, 1, 1, 2, 1,  \n",
    " 1, 2, 1, 1, 1, 1, 2, 1, 2, 1, 1, 1, 1, 1, 1, 1, 2, 2, 1, 1, 2, 1, 2, 2, 2, 1, 1, 1, 2, 2, 2, 1, 1, 1, 2, 1, 2, \n",
    " 1, 2, 1, 2, 2, 1, 2, 2, 1, 2, 1, 1, 1, 1, 2, 2, 1, 1, 1, 1, 2, 1, 2, 1, 1, 2, 1, 1, 1, 1, 2, 1, 2, 1, 1, 2, 2, \n",
    " 2, 1, 1, 1, 2, 1, 1, 2, 1, 2, 2, 1, 1, 2, 2, 2, 1, 1, 2, 1, 1, 2, 1, 1, 1, 1, 2, 2, 1, 1, 1, 1, 1, 1, 1, 2, 2, \n",
    " 1, 1, 2, 2, 2, 2, 2, 1, 2, 2, 1, 1, 1, 2, 1, 1, 2, 1, 1, 2, 1, 1, 2, 2, 1, 1, 1, 2, 1, 2, 2,])"
   ]
  },
  {
   "cell_type": "code",
   "execution_count": null,
   "id": "7134e3b0",
   "metadata": {},
   "outputs": [],
   "source": [
    "RF_pred = np.array([0, 0, 1, 0, 1, 1, 1, 1, 1, 0, 0, 1, 0, 0, 0, 1, 1,\n",
    "       0, 1, 1, 1, 1, 1, 0, 0, 1, 0, 0, 0, 1, 0, 0, 0, 0,\n",
    "       0, 0, 0, 1, 0, 0, 1, 0, 1, 1, 1, 1, 1, 0, 0, 1, 0,\n",
    "       0, 0, 1, 1, 0, 0, 1, 0, 0, 0, 0, 1, 0, 0, 0, 0, 0,\n",
    "       0, 0])\n",
    "\n",
    "RF_test = np.array([0, 0, 0, 0, 1, 1, 0, 1, 1, 0, 0, 0, 0, 0, 1, 1, 1,\n",
    "       0, 1, 1, 0, 1, 1, 0, 0, 0, 0, 0, 0, 0, 0, 0, 0, 0,\n",
    "       0, 0, 1, 1, 0, 1, 1, 1, 1, 1, 1, 1, 1, 0, 0, 1, 0,\n",
    "       0, 0, 1, 1, 0, 0, 1, 0, 1, 0, 1, 1, 0, 1, 0, 1, 0,\n",
    "       0, 0])"
   ]
  },
  {
   "cell_type": "code",
   "execution_count": null,
   "id": "66b8e973",
   "metadata": {},
   "outputs": [],
   "source": [
    "SA_test = np.array([0, 0, 0, 1, 1, 0, 0, 1, 0, 0, 1, 0, 1, 0, 0, 1, 1, 0, 0, 1, 0, 0, 0, 0,\n",
    " 1, 0, 1, 0, 0, 1, 1, 1, 1, 1, 1, 1, 1, 0, 0, 1, 0, 1, 0, 1, 0, 0, 0, 1,\n",
    " 0, 1, 0, 0, 0,])\n",
    "\n",
    "SA_pred = ([0,0,0,0,1,0,0,1,1,1,1,0,0,0,0,0,0,0,0,0,0,0,0,0,1,0,1,0,0,0,1,1,1,1,1,0,1,\n",
    " 1,0,1,0,1,0,1,0,0,0,1,0,0,0,0,0])"
   ]
  },
  {
   "cell_type": "code",
   "execution_count": null,
   "id": "d240fa9c",
   "metadata": {},
   "outputs": [],
   "source": [
    "SSA_test = np.array([0, 1, 1, 0, 1, 0, 1, 0, 1, 0,\n",
    "                 1, 0, 1, 0, 1, 0, 1, 0, 1, 0,\n",
    "                 1, 0, 1, 0, 1, 0, 1, 0, 1, 0])\n",
    "\n",
    "SSA_pred = np.array([0, 1, 1, 0, 1, 0, 1, 0, 1, 0,   \n",
    "                 1, 0, 0, 1, 1, 0, 1, 1, 0, 0,\n",
    "                 1, 0, 1, 0, 1, 0, 1, 0, 1, 0])"
   ]
  },
  {
   "cell_type": "code",
   "execution_count": null,
   "id": "fd771ab7",
   "metadata": {},
   "outputs": [],
   "source": [
    "SSA_full_pred = np.array([1, 0, 1, 0, 1, 0, 0, 1, 1, 1, 0, 0, 0, 1, 1, 1, 1, 1, 1, 0, 0, 0,\n",
    "       0, 1, 0, 1, 1, 0, 1, 1, 1, 1, 1, 0, 1, 0, 0, 0, 0, 1, 0, 1, 0, 0,\n",
    "       1, 1, 1, 1, 1, 1, 1, 0, 1, 1, 1, 0, 0, 0, 0, 1, 1, 0, 0, 1, 0, 0,\n",
    "       0, 0, 0, 0, 0, 1, 0, 0, 1, 1, 0, 0, 1, 0, 0, 1, 1, 0, 0, 1, 1, 0,\n",
    "       1, 0])\n",
    "\n",
    "SSA_full_test = np.array([0, 0, 1, 0, 1, 1, 0, 1, 1, 1, 0, 1, 0, 1, 0, 1, 1,\n",
    "       1, 0, 0, 0, 0, 0, 0, 0, 1, 1, 0, 1, 1, 0, 0, 1, 0,\n",
    "       0, 0, 0, 0, 1, 1, 0, 0, 0, 0, 1, 1, 1, 0, 0, 1, 0,\n",
    "       0, 1, 0, 1, 0, 0, 0, 0, 0, 1, 1, 0, 1, 1, 0, 0, 0,\n",
    "       1, 0, 0, 1, 0, 0, 0, 1, 0, 0, 1, 1, 0, 1, 1, 0, 0,\n",
    "       1, 1, 0, 1, 0])"
   ]
  },
  {
   "cell_type": "code",
   "execution_count": null,
   "id": "b7b14e41",
   "metadata": {},
   "outputs": [],
   "source": [
    "xgb_pred = np.array([0, 0, 1, 0, 1, 1, 0, 1, 0, 0, 0, 1, 0, 0, 0, 0, 1, 0, 1, 1, 1, 0,\n",
    "       1, 0, 0, 1, 0, 0, 0, 0, 0, 0, 0, 0, 0, 0, 0, 0, 1, 0, 1, 0, 1, 1,\n",
    "       1, 1, 1, 0, 0, 1, 0, 1, 0, 1, 1, 0, 0, 1, 0, 0, 0, 0, 0, 0, 0, 0,\n",
    "       0, 0, 0, 0])\n",
    "\n",
    "xgb_test = np.array([0, 0, 0, 0, 1, 1, 0, 1, 1, 0, 0, 0, 0, 0, 1, 1, 1,\n",
    "       0, 1, 1, 0, 1, 1, 0, 0, 0, 0, 0, 0, 0, 0, 0, 0, 0,\n",
    "       0, 0, 1, 1, 0, 1, 1, 1, 1, 1, 1, 1, 1, 0, 0, 1, 0,\n",
    "       0, 0, 1, 1, 0, 0, 1, 0, 1, 0, 1, 1, 0, 1, 0, 1, 0,\n",
    "       0, 0])"
   ]
  },
  {
   "cell_type": "code",
   "execution_count": null,
   "id": "55ad6fb1",
   "metadata": {},
   "outputs": [],
   "source": [
    "lgbm_test = np.array([0, 0, 0, 0, 1, 1, 0, 1, 1, 0, 0, 0, 0, 0, 1, 1, 1,\n",
    "       0, 1, 1, 0, 1, 1, 0, 0, 0, 0, 0, 0, 0, 0, 0, 0, 0,\n",
    "       0, 0, 1, 1, 0, 1, 1, 1, 1, 1, 1, 1, 1, 0, 0, 1, 0,\n",
    "       0, 0, 1, 1, 0, 0, 1, 0, 1, 0, 1, 1, 0, 1, 0, 1, 0,\n",
    "       0, 0])\n",
    "\n",
    "lgbm_pred = np.array([0, 0, 1, 0, 1, 1, 0, 1, 0, 0, 0, 1, 0, 0, 0, 0, 1, 0, 1, 1, 1, 0,\n",
    "       1, 0, 0, 1, 0, 0, 0, 0, 0, 0, 0, 0, 0, 0, 0, 0, 1, 0, 1, 0, 1, 1,\n",
    "       1, 1, 1, 0, 0, 1, 0, 1, 0, 1, 1, 0, 0, 1, 0, 0, 0, 0, 0, 0, 0, 0,\n",
    "       0, 0, 0, 0])"
   ]
  },
  {
   "cell_type": "code",
   "execution_count": null,
   "id": "0d6ae67f",
   "metadata": {},
   "outputs": [],
   "source": [
    "et_pred = np.array([0, 0, 1, 0, 0, 1, 0, 0, 1, 0, 0, 1, 0, 0, 0, 0, 1,\n",
    "       0, 1, 0, 0, 1, 0, 0, 0, 0, 0, 0, 0, 0, 0, 0, 0, 0,\n",
    "       0, 0, 0, 1, 0, 0, 1, 0, 1, 1, 1, 1, 1, 0, 0, 1, 0,\n",
    "       0, 0, 1, 1, 0, 0, 1, 0, 0, 0, 0, 1, 0, 0, 0, 0, 0,\n",
    "       0, 0])\n",
    "\n",
    "et_test = np.array([0, 0, 0, 0, 1, 1, 0, 1, 1, 0, 0, 0, 0, 0, 1, 1, 1,\n",
    "       0, 1, 1, 0, 1, 1, 0, 0, 0, 0, 0, 0, 0, 0, 0, 0, 0,\n",
    "       0, 0, 1, 1, 0, 1, 1, 1, 1, 1, 1, 1, 1, 0, 0, 1, 0,\n",
    "       0, 0, 1, 1, 0, 0, 1, 0, 1, 0, 1, 1, 0, 1, 0, 1, 0,\n",
    "       0, 0])"
   ]
  },
  {
   "cell_type": "code",
   "execution_count": null,
   "id": "732db230",
   "metadata": {},
   "outputs": [],
   "source": [
    "class_names = ['Dengue Fever','Severe Dengue Fever']\n",
    "cm = confusion_matrix(y_true, y_pred)\n",
    "    \n",
    "# Calculate overall metrics\n",
    "accuracy = accuracy_score(y_true, y_pred)\n",
    "\n",
    "# Calculate per-class metrics\n",
    "precision = precision_score(y_true, y_pred, average=None)\n",
    "recall = recall_score(y_true, y_pred, average=None)\n",
    "f1,= f1_score(y_true, y_pred, average=None)\n",
    "\n",
    "roc_auc_score(y_true, y_prob)\n",
    "# Set class names\n",
    "if class_names is None:\n",
    "    class_names = [f'Class {i}' for i in range(len(cm))]\n",
    "\n",
    "# Create visualization\n",
    "fig, ((ax1, ax2), (ax3, ax4)) = plt.subplots(2, 2, figsize=(15, 12))\n",
    "\n",
    "# 1, Confusion Matrix\n",
    "sns.heatmap(cm, annot=True, fmt='d', cmap='Blues', ax=ax1,\n",
    "            xticklabels=class_names, yticklabels=class_names)\n",
    "ax1,set_title(f'Confusion Matrix\\nOverall Accuracy: {accuracy:.3f}')\n",
    "ax1,set_ylabel('True Label')\n",
    "ax1,set_xlabel('Predicted Label')\n",
    "\n",
    "# 2. Precision by Class\n",
    "bars1,= ax2.bar(class_names, precision, color='purple', alpha=0,7)\n",
    "ax2.set_title('Precision by Class')\n",
    "ax2.set_ylabel('Precision')\n",
    "ax2.set_ylim(0, 1)\n",
    "# Add value labels on bars\n",
    "for bar, val in zip(bars1, precision):\n",
    "    ax2.text(bar.get_x() + bar.get_width()/2, bar.get_height() + 0,01,\n",
    "            f'{val:.3f}', ha='center', va='bottom')\n",
    "\n",
    "# 3. Recall by Class\n",
    "bars2 = ax3.bar(class_names, recall, color='lightgreen', alpha=0,7)\n",
    "ax3.set_title('Recall by Class')\n",
    "ax3.set_ylabel('Recall')\n",
    "ax3.set_ylim(0, 1)\n",
    "# Add value labels on bars\n",
    "for bar, val in zip(bars2, recall):\n",
    "    ax3.text(bar.get_x() + bar.get_width()/2, bar.get_height() + 0,01,\n",
    "            f'{val:.3f}', ha='center', va='bottom')\n",
    "\n",
    "# 4. F1-Score by Class\n",
    "bars3 = ax4.bar(class_names, f1, color='turquoise', alpha=0,7)\n",
    "ax4.set_title('F1-Score by Class')\n",
    "ax4.set_ylabel('F1-Score')\n",
    "ax4.set_ylim(0, 1)\n",
    "# Add value labels on bars\n",
    "for bar, val in zip(bars3, f1):\n",
    "    ax4.text(bar.get_x() + bar.get_width()/2, bar.get_height() + 0,01,\n",
    "            f'{val:.3f}', ha='center', va='bottom')\n",
    "    \n",
    "fig.suptitle(title if title else 'Confusion Matrix Analysis', fontsize=16)\n",
    "plt.tight_layout()\n",
    "plt.show()"
   ]
  }
 ],
 "metadata": {
  "kernelspec": {
   "display_name": "108-env",
   "language": "python",
   "name": "python3"
  },
  "language_info": {
   "codemirror_mode": {
    "name": "ipython",
    "version": 3
   },
   "file_extension": ".py",
   "mimetype": "text/x-python",
   "name": "python",
   "nbconvert_exporter": "python",
   "pygments_lexer": "ipython3",
   "version": "3.12.3"
  }
 },
 "nbformat": 4,
 "nbformat_minor": 5
}
