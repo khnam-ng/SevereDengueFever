{
 "cells": [
  {
   "cell_type": "code",
   "execution_count": null,
   "metadata": {},
   "outputs": [],
   "source": [
    "\"\"\"\n",
    "author: Vetivert? 💐 \n",
    "created: 13/03/2025 @ 12:46:33\n",
    "\"\"\"\n",
    "\n",
    "import numpy as np\n",
    "import matplotlib.pyplot as plt\n",
    "import pandas as pd\n",
    "from sklearn.model_selection import train_test_split\n",
    "from sklearn.preprocessing import StandardScaler\n",
    "\n",
    "from prefix_path import full_data_path, redundant_cols, missing_2017, hematoma_cols, bleeding_cols, fillna_values"
   ]
  },
  {
   "cell_type": "code",
   "execution_count": null,
   "metadata": {},
   "outputs": [
    {
     "name": "stdout",
     "output_type": "stream",
     "text": [
      "  ID BN  STT           Full name Age Diagnosis Gende Blood group  \\\n",
      "0      2   1       TRẦN DUY CHÀO  46         2     1         NaN   \n",
      "1      3   2    NGUYỄN VIẾT XUÂN  35         1     1         NaN   \n",
      "2      4   3  BÙI THỊ THANH DUNG  25         1     0         NaN   \n",
      "3      5   4           CỨ A TỈNH  20         2     1           B   \n",
      "4      6   5    NGUYỄN VĂN QUÂN   31         1     1           O   \n",
      "\n",
      "               Ward             District Hospitalization day  ...  \\\n",
      "0               NaN  Thanh Trì - Hà Nội             30/10/17  ...   \n",
      "1           Phúc La    Hà Đông - Hà Nội             30/10/17  ...   \n",
      "2               NaN    Hà Đông - Hà Nội             30/10/17  ...   \n",
      "3  Học viện an ninh  Thanh Xuân - Hà Nội            31/10/17  ...   \n",
      "4         Lương Đô    Thanh Ba - Phú Thọ            22/10/17  ...   \n",
      "\n",
      "  Unnamed: 511 Unnamed: 512 Unnamed: 513 Unnamed: 514 Unnamed: 515  \\\n",
      "0          NaN          NaN          NaN          NaN          NaN   \n",
      "1          NaN          NaN          NaN          NaN          NaN   \n",
      "2          NaN          NaN          NaN          NaN          NaN   \n",
      "3          NaN          NaN          NaN          NaN          NaN   \n",
      "4          NaN          NaN          NaN          NaN          NaN   \n",
      "\n",
      "  Unnamed: 516 Unnamed: 517 Unnamed: 518 Unnamed: 519 Unnamed: 520  \n",
      "0          NaN          NaN          NaN          NaN          NaN  \n",
      "1          NaN          NaN          NaN          NaN          NaN  \n",
      "2          NaN          NaN          NaN          NaN          NaN  \n",
      "3          NaN          NaN          NaN          NaN          NaN  \n",
      "4          NaN          NaN          NaN          NaN          NaN  \n",
      "\n",
      "[5 rows x 521 columns]\n",
      "<class 'pandas.core.frame.DataFrame'>\n",
      "RangeIndex: 414 entries, 0 to 413\n",
      "Columns: 521 entries, ID BN  to Unnamed: 520\n",
      "dtypes: float64(186), object(335)\n",
      "memory usage: 1.6+ MB\n",
      "None\n"
     ]
    }
   ],
   "source": [
    "# Load dataset\n",
    "df = pd.read_csv(full_data_path, sep=\";\", header=3) #separator is ;\n",
    "\n",
    "# Drop redundant cols + rows\n",
    "df.drop([224, 225, 226]) #indexes of 2019 data \n",
    "df.drop(redundant_cols, axis=1)\n",
    "\n",
    "df = df.fillna(fillna_values) #df[1] = df[1].fillna(0)\n",
    "\n",
    "hema_1st_col = df.columns.get_loc(\"Tourniquet test\") #get col index by its name\n",
    "hema_val = []\n",
    "for i in range(len(df.iloc[hema_1st_col])):\n",
    "    hema_val.append(df[hematoma_cols[0]] + df[hematoma_cols[1]] + df[hematoma_cols[2]] + df[hematoma_cols[3]] + df[hematoma_cols[4]])\n",
    "    if hema_val[i] > 0:\n",
    "        hema_val[i] = 1\n",
    "    else:\n",
    "        hema_val[i] = 0       \n",
    "df.insert(hema_1st_col, 'hematoma', hema_val)\n",
    "df.drop(hematoma_cols, axis=1)\n",
    "\n",
    "bleeding_1st_col = df.columns.get_loc(\"Gum\")\n",
    "bleeding_val = []\n",
    "for i in range(len(df.iloc[bleeding_1st_col])):\n",
    "    bleeding_val.append(df[bleeding_cols[0]] + df[bleeding_cols[1]] + df[bleeding_cols[2]] + df[bleeding_cols[3]] + df[bleeding_cols[4]])\n",
    "    if bleeding_val[i] > 0:\n",
    "        bleeding_val[i] = 1\n",
    "    else:\n",
    "        bleeding_val[i] = 0\n",
    "df.insert(bleeding_1st_col, 'bleeding', bleeding_val)\n",
    "df.drop(bleeding_cols, axis=1)\n"
   ]
  },
  {
   "cell_type": "code",
   "execution_count": null,
   "metadata": {},
   "outputs": [],
   "source": []
  }
 ],
 "metadata": {
  "kernelspec": {
   "display_name": "Python 3",
   "language": "python",
   "name": "python3"
  },
  "language_info": {
   "codemirror_mode": {
    "name": "ipython",
    "version": 3
   },
   "file_extension": ".py",
   "mimetype": "text/x-python",
   "name": "python",
   "nbconvert_exporter": "python",
   "pygments_lexer": "ipython3",
   "version": "3.10.12"
  }
 },
 "nbformat": 4,
 "nbformat_minor": 2
}
